{
 "cells": [
  {
   "cell_type": "markdown",
   "id": "2a901570-72e2-42be-a600-c5f51c2894c4",
   "metadata": {},
   "source": [
    "### source: https://www.kaggle.com/datasets/aadarshvelu/heart-failure-prediction-clinical-records?select=heart_failure_clinical_records.csv"
   ]
  },
  {
   "cell_type": "markdown",
   "id": "cdd9ed46-82e5-4e91-9fd7-2db4b8df7e2b",
   "metadata": {},
   "source": [
    "### Modules and Libraries"
   ]
  },
  {
   "cell_type": "code",
   "execution_count": 2,
   "id": "f0c8e3d2-1728-4659-9511-d7ba5d2d9384",
   "metadata": {},
   "outputs": [],
   "source": [
    "import os\n",
    "import pandas as pd\n",
    "import matplotlib.pyplot as plt\n",
    "import seaborn as sns"
   ]
  },
  {
   "cell_type": "markdown",
   "id": "1c471445-6ea6-4995-bb08-a18be576d334",
   "metadata": {},
   "source": [
    "### Check the existence of the file which will be used"
   ]
  },
  {
   "cell_type": "code",
   "execution_count": 3,
   "id": "da11fce4-7177-4606-b8fa-8ff4fb109bbb",
   "metadata": {},
   "outputs": [
    {
     "name": "stdout",
     "output_type": "stream",
     "text": [
      ".ipynb_checkpoints\n",
      "heartFailure.ipynb\n",
      "heart_failure_clinical_records.csv\n"
     ]
    }
   ],
   "source": [
    "path = os.getcwd()\n",
    "files = os.listdir(path)\n",
    "for file in files:\n",
    "    print (file)"
   ]
  },
  {
   "cell_type": "markdown",
   "id": "d3803748-5e62-4d96-9091-276402b13db3",
   "metadata": {},
   "source": [
    "## Load .csv file and Set it a variable"
   ]
  },
  {
   "cell_type": "code",
   "execution_count": 4,
   "id": "d310f683-fb2e-4958-8a85-8039f54eeaae",
   "metadata": {},
   "outputs": [],
   "source": [
    "data_frame = pd.read_csv('heart_failure_clinical_records.csv')"
   ]
  },
  {
   "cell_type": "markdown",
   "id": "4529197b-5ffc-4235-a0c9-0ba16d3fd528",
   "metadata": {},
   "source": [
    "## DataFrame Summary"
   ]
  },
  {
   "cell_type": "code",
   "execution_count": 5,
   "id": "8cddc265-e672-40dd-b47e-13934e7b8502",
   "metadata": {},
   "outputs": [
    {
     "name": "stdout",
     "output_type": "stream",
     "text": [
      "<class 'pandas.core.frame.DataFrame'>\n",
      "RangeIndex: 5000 entries, 0 to 4999\n",
      "Data columns (total 13 columns):\n",
      " #   Column                    Non-Null Count  Dtype  \n",
      "---  ------                    --------------  -----  \n",
      " 0   age                       5000 non-null   float64\n",
      " 1   anaemia                   5000 non-null   int64  \n",
      " 2   creatinine_phosphokinase  5000 non-null   int64  \n",
      " 3   diabetes                  5000 non-null   int64  \n",
      " 4   ejection_fraction         5000 non-null   int64  \n",
      " 5   high_blood_pressure       5000 non-null   int64  \n",
      " 6   platelets                 5000 non-null   float64\n",
      " 7   serum_creatinine          5000 non-null   float64\n",
      " 8   serum_sodium              5000 non-null   int64  \n",
      " 9   sex                       5000 non-null   int64  \n",
      " 10  smoking                   5000 non-null   int64  \n",
      " 11  time                      5000 non-null   int64  \n",
      " 12  DEATH_EVENT               5000 non-null   int64  \n",
      "dtypes: float64(3), int64(10)\n",
      "memory usage: 507.9 KB\n"
     ]
    }
   ],
   "source": [
    "data_frame.info()"
   ]
  },
  {
   "cell_type": "markdown",
   "id": "468b5693-d0e6-45f4-834c-57d1ac0d1c72",
   "metadata": {},
   "source": [
    "## Unique elements of an array"
   ]
  },
  {
   "cell_type": "code",
   "execution_count": 6,
   "id": "885f7f41-fd1b-4a02-9321-07f83da55080",
   "metadata": {},
   "outputs": [
    {
     "data": {
      "text/plain": [
       "array([1, 0], dtype=int64)"
      ]
     },
     "execution_count": 6,
     "metadata": {},
     "output_type": "execute_result"
    }
   ],
   "source": [
    "data_frame.sex.unique()"
   ]
  },
  {
   "cell_type": "code",
   "execution_count": 7,
   "id": "0cff2d37-15ab-4303-a8a0-af29fc35249e",
   "metadata": {},
   "outputs": [
    {
     "data": {
      "text/plain": [
       "array([0, 1], dtype=int64)"
      ]
     },
     "execution_count": 7,
     "metadata": {},
     "output_type": "execute_result"
    }
   ],
   "source": [
    "data_frame.DEATH_EVENT.unique()"
   ]
  },
  {
   "cell_type": "markdown",
   "id": "91e47605-e9eb-429d-9b11-15006efea0b9",
   "metadata": {},
   "source": [
    "## Glimpse of the data frame"
   ]
  },
  {
   "cell_type": "code",
   "execution_count": 8,
   "id": "8c3a768b-dad5-4dcb-9b97-205965156a5a",
   "metadata": {},
   "outputs": [
    {
     "data": {
      "text/html": [
       "<div>\n",
       "<style scoped>\n",
       "    .dataframe tbody tr th:only-of-type {\n",
       "        vertical-align: middle;\n",
       "    }\n",
       "\n",
       "    .dataframe tbody tr th {\n",
       "        vertical-align: top;\n",
       "    }\n",
       "\n",
       "    .dataframe thead th {\n",
       "        text-align: right;\n",
       "    }\n",
       "</style>\n",
       "<table border=\"1\" class=\"dataframe\">\n",
       "  <thead>\n",
       "    <tr style=\"text-align: right;\">\n",
       "      <th></th>\n",
       "      <th>age</th>\n",
       "      <th>anaemia</th>\n",
       "      <th>creatinine_phosphokinase</th>\n",
       "      <th>diabetes</th>\n",
       "      <th>ejection_fraction</th>\n",
       "      <th>high_blood_pressure</th>\n",
       "      <th>platelets</th>\n",
       "      <th>serum_creatinine</th>\n",
       "      <th>serum_sodium</th>\n",
       "      <th>sex</th>\n",
       "      <th>smoking</th>\n",
       "      <th>time</th>\n",
       "      <th>DEATH_EVENT</th>\n",
       "    </tr>\n",
       "  </thead>\n",
       "  <tbody>\n",
       "    <tr>\n",
       "      <th>0</th>\n",
       "      <td>55.0</td>\n",
       "      <td>0</td>\n",
       "      <td>748</td>\n",
       "      <td>0</td>\n",
       "      <td>45</td>\n",
       "      <td>0</td>\n",
       "      <td>263358.03</td>\n",
       "      <td>1.3</td>\n",
       "      <td>137</td>\n",
       "      <td>1</td>\n",
       "      <td>1</td>\n",
       "      <td>88</td>\n",
       "      <td>0</td>\n",
       "    </tr>\n",
       "    <tr>\n",
       "      <th>1</th>\n",
       "      <td>65.0</td>\n",
       "      <td>0</td>\n",
       "      <td>56</td>\n",
       "      <td>0</td>\n",
       "      <td>25</td>\n",
       "      <td>0</td>\n",
       "      <td>305000.00</td>\n",
       "      <td>5.0</td>\n",
       "      <td>130</td>\n",
       "      <td>1</td>\n",
       "      <td>0</td>\n",
       "      <td>207</td>\n",
       "      <td>0</td>\n",
       "    </tr>\n",
       "    <tr>\n",
       "      <th>2</th>\n",
       "      <td>45.0</td>\n",
       "      <td>0</td>\n",
       "      <td>582</td>\n",
       "      <td>1</td>\n",
       "      <td>38</td>\n",
       "      <td>0</td>\n",
       "      <td>319000.00</td>\n",
       "      <td>0.9</td>\n",
       "      <td>140</td>\n",
       "      <td>0</td>\n",
       "      <td>0</td>\n",
       "      <td>244</td>\n",
       "      <td>0</td>\n",
       "    </tr>\n",
       "    <tr>\n",
       "      <th>3</th>\n",
       "      <td>60.0</td>\n",
       "      <td>1</td>\n",
       "      <td>754</td>\n",
       "      <td>1</td>\n",
       "      <td>40</td>\n",
       "      <td>1</td>\n",
       "      <td>328000.00</td>\n",
       "      <td>1.2</td>\n",
       "      <td>126</td>\n",
       "      <td>1</td>\n",
       "      <td>0</td>\n",
       "      <td>90</td>\n",
       "      <td>0</td>\n",
       "    </tr>\n",
       "    <tr>\n",
       "      <th>4</th>\n",
       "      <td>95.0</td>\n",
       "      <td>1</td>\n",
       "      <td>582</td>\n",
       "      <td>0</td>\n",
       "      <td>30</td>\n",
       "      <td>0</td>\n",
       "      <td>461000.00</td>\n",
       "      <td>2.0</td>\n",
       "      <td>132</td>\n",
       "      <td>1</td>\n",
       "      <td>0</td>\n",
       "      <td>50</td>\n",
       "      <td>1</td>\n",
       "    </tr>\n",
       "  </tbody>\n",
       "</table>\n",
       "</div>"
      ],
      "text/plain": [
       "    age  anaemia  creatinine_phosphokinase  diabetes  ejection_fraction  \\\n",
       "0  55.0        0                       748         0                 45   \n",
       "1  65.0        0                        56         0                 25   \n",
       "2  45.0        0                       582         1                 38   \n",
       "3  60.0        1                       754         1                 40   \n",
       "4  95.0        1                       582         0                 30   \n",
       "\n",
       "   high_blood_pressure  platelets  serum_creatinine  serum_sodium  sex  \\\n",
       "0                    0  263358.03               1.3           137    1   \n",
       "1                    0  305000.00               5.0           130    1   \n",
       "2                    0  319000.00               0.9           140    0   \n",
       "3                    1  328000.00               1.2           126    1   \n",
       "4                    0  461000.00               2.0           132    1   \n",
       "\n",
       "   smoking  time  DEATH_EVENT  \n",
       "0        1    88            0  \n",
       "1        0   207            0  \n",
       "2        0   244            0  \n",
       "3        0    90            0  \n",
       "4        0    50            1  "
      ]
     },
     "metadata": {},
     "output_type": "display_data"
    }
   ],
   "source": [
    "display(data_frame.head())"
   ]
  },
  {
   "cell_type": "markdown",
   "id": "69d801a5-dc3d-46a0-853d-ac991e7c4c5e",
   "metadata": {},
   "source": [
    "## Plot bar chart"
   ]
  },
  {
   "cell_type": "code",
   "execution_count": 24,
   "id": "0c1cb694-7240-4d07-a06c-8aa0ef3eec36",
   "metadata": {},
   "outputs": [
    {
     "data": {
      "image/png": "[encoded data removed]",
      "text/plain": [
       "<Figure size 640x480 with 1 Axes>"
      ]
     },
     "metadata": {},
     "output_type": "display_data"
    }
   ],
   "source": [
    "sns.set(style=\"whitegrid\")\n",
    "plt.title('Heart Failure', fontsize=20)\n",
    "sns.countplot(x = \"DEATH_EVENT\", hue=\"sex\", hue_order = [0, 1], palette = 'cool', data = data_frame);\n",
    "plt.xlabel('Death Event')\n",
    "plt.ylabel('Count')\n",
    "plt.xticks([0, 1], ['No', 'Yes'])\n",
    "plt.legend(labels = ['Male', 'Female'])\n",
    "plt.savefig('heartFailure.png')\n"
   ]
  },
  {
   "cell_type": "code",
   "execution_count": null,
   "id": "6f6a2c73-b2ee-45a1-bb60-ac1491bf333d",
   "metadata": {},
   "outputs": [],
   "source": []
  },
  {
   "cell_type": "code",
   "execution_count": null,
   "id": "311eee73-a8ac-46e6-8caf-a002cc47190a",
   "metadata": {},
   "outputs": [],
   "source": []
  }
 ],
 "metadata": {
  "kernelspec": {
   "display_name": "Python 3 (ipykernel)",
   "language": "python",
   "name": "python3"
  },
  "language_info": {
   "codemirror_mode": {
    "name": "ipython",
    "version": 3
   },
   "file_extension": ".py",
   "mimetype": "text/x-python",
   "name": "python",
   "nbconvert_exporter": "python",
   "pygments_lexer": "ipython3",
   "version": "3.12.2"
  }
 },
 "nbformat": 4,
 "nbformat_minor": 5
}
